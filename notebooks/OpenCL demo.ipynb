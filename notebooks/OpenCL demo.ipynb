{
 "cells": [
  {
   "cell_type": "code",
   "execution_count": 1,
   "metadata": {
    "collapsed": false
   },
   "outputs": [],
   "source": [
    "import numpy as np\n",
    "import pyopencl as cl"
   ]
  },
  {
   "cell_type": "code",
   "execution_count": 2,
   "metadata": {
    "collapsed": false
   },
   "outputs": [],
   "source": [
    "ctx = cl.create_some_context()\n",
    "queue = cl.CommandQueue(ctx)"
   ]
  },
  {
   "cell_type": "code",
   "execution_count": 3,
   "metadata": {
    "collapsed": true
   },
   "outputs": [],
   "source": [
    "a = np.array(range(50), np.int32)\n",
    "b = 100 + np.array(range(50), np.int32)\n",
    "\n",
    "c = np.empty_like(a)"
   ]
  },
  {
   "cell_type": "code",
   "execution_count": 4,
   "metadata": {
    "collapsed": false
   },
   "outputs": [],
   "source": [
    "mf = cl.mem_flags\n",
    "a_buf = cl.Buffer(ctx, cl.mem_flags.READ_ONLY | cl.mem_flags.COPY_HOST_PTR, hostbuf=a)\n",
    "b_buf = cl.Buffer(ctx, cl.mem_flags.READ_ONLY | cl.mem_flags.COPY_HOST_PTR, hostbuf=b)\n",
    "\n",
    "c_buf = cl.Buffer(ctx, cl.mem_flags.WRITE_ONLY, a.nbytes)"
   ]
  },
  {
   "cell_type": "code",
   "execution_count": 5,
   "metadata": {
    "collapsed": true
   },
   "outputs": [],
   "source": [
    "kernel = \"\"\"\n",
    "__kernel void foo(__global int* a, __global int* b, __global int* c) \n",
    "{\n",
    "    int i = get_global_id(0);\n",
    "    c[i] = a[i] * b[i];\n",
    "}\n",
    "\"\"\""
   ]
  },
  {
   "cell_type": "code",
   "execution_count": 6,
   "metadata": {
    "collapsed": false
   },
   "outputs": [],
   "source": [
    "program = cl.Program(ctx, kernel).build()\n",
    "launch = program.foo(queue, a.shape, None,\n",
    "                        a_buf, b_buf, c_buf)\n",
    "launch.wait()\n",
    "cl.enqueue_copy(queue, c, c_buf).wait()"
   ]
  },
  {
   "cell_type": "code",
   "execution_count": 7,
   "metadata": {
    "collapsed": false
   },
   "outputs": [
    {
     "name": "stdout",
     "output_type": "stream",
     "text": [
      "[   0  101  204  309  416  525  636  749  864  981 1100 1221 1344 1469 1596\n",
      " 1725 1856 1989 2124 2261 2400 2541 2684 2829 2976 3125 3276 3429 3584 3741\n",
      " 3900 4061 4224 4389 4556 4725 4896 5069 5244 5421 5600 5781 5964 6149 6336\n",
      " 6525 6716 6909 7104 7301]\n"
     ]
    }
   ],
   "source": [
    "assert np.all(c == (a * b))\n",
    "print(c)"
   ]
  }
 ],
 "metadata": {
  "kernelspec": {
   "display_name": "Python 3",
   "language": "python",
   "name": "python3"
  },
  "language_info": {
   "codemirror_mode": {
    "name": "ipython",
    "version": 3
   },
   "file_extension": ".py",
   "mimetype": "text/x-python",
   "name": "python",
   "nbconvert_exporter": "python",
   "pygments_lexer": "ipython3",
   "version": "3.4.2"
  }
 },
 "nbformat": 4,
 "nbformat_minor": 0
}
